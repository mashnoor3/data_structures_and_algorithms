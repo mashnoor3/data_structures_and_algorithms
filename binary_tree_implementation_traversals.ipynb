{
 "cells": [
  {
   "cell_type": "markdown",
   "metadata": {},
   "source": [
    "## Binary Tree Implementation"
   ]
  },
  {
   "cell_type": "code",
   "execution_count": 1,
   "metadata": {
    "collapsed": true
   },
   "outputs": [],
   "source": [
    "class BinaryTree(object):\n",
    "    \n",
    "    def __init__(self,rootObj): \n",
    "        self.key = rootObj\n",
    "        self.leftChild = None\n",
    "        self.rightChild = None\n",
    "    \n",
    "    def insertLeftChild(self, newNode):\n",
    "        # The first case is characterized by a node with no existing left child. \n",
    "        # When there is no left child, simply add a node to the tree. \n",
    "        if self.leftChild == None: \n",
    "            self.leftChild = BinaryTree(newNode)\n",
    "        # The second case is characterized by a node with an existing left child.\n",
    "        # In the second case, we insert a node and push the existing child down one level in the tree.\n",
    "        else: \n",
    "            t = BinaryTree(newNode)\n",
    "            t.leftChild = self.leftChild\n",
    "            self.leftChild = t\n",
    "    \n",
    "    def insertRightChild(self, newNode):\n",
    "        if self.rightChild == None: \n",
    "            self.rightChild = BinaryTree(newNode)\n",
    "        else: \n",
    "            t = BinaryTree(newNode)\n",
    "            t.rightChild = self.rightChild\n",
    "            self.rightChild = t\n",
    "    \n",
    "    def getLeftChild(self):\n",
    "        return self.leftChild\n",
    "    \n",
    "    def getRightChild(self):\n",
    "        return self.rightChild\n",
    "    \n",
    "    def setRootVal(self, obj):\n",
    "        self.key = obj\n",
    "    \n",
    "    def getRootVal(self):\n",
    "        return self.key"
   ]
  },
  {
   "cell_type": "markdown",
   "metadata": {},
   "source": [
    "## Tree traversals"
   ]
  },
  {
   "cell_type": "markdown",
   "metadata": {},
   "source": [
    "### Pre-Order\n",
    "1. Check if the current node is empty / null.\n",
    "2. Display the data part of the root (or current node).\n",
    "3. Traverse the left subtree by recursively calling the pre-order function.\n",
    "4. Traverse the right subtree by recursively calling the pre-order function.\n",
    "<hr><center>Pre-Order: F,B,A,D,C,E,G,I,H</center>\n",
    "\n",
    "<img src=\"images/pre-order_traversal.PNG\", width=200, height=200>\n",
    "\n",
    "### In-Order\n",
    "1. Check if the current node is empty / null.\n",
    "2. Traverse the left subtree by recursively calling the in-order function.\n",
    "3. Display the data part of the root (or current node).\n",
    "4. Traverse the right subtree by recursively calling the in-order function.\n",
    "\n",
    "In a binary search tree, in-order traversal retrieves data in sorted order.\n",
    "<hr><center>Pre-Order: A,B,C,D,E,F,G,H,I</center>\n",
    "\n",
    "<img src=\"images/in-order_traversal.PNG\", width=200, height=200>\n",
    "\n",
    "### Post-Order\n",
    "1. Check if the current node is empty / null.\n",
    "2. Traverse the left subtree by recursively calling the post-order function.\n",
    "3. Traverse the right subtree by recursively calling the post-order function.\n",
    "4. Display the data part of the root (or current node).\n",
    "\n",
    "<hr><center>Post-order: A,C,E,D,B,H,I,G,F</center>\n",
    "\n",
    "<img src=\"images/post-order_traversal.PNG\", width=200, height=200>"
   ]
  },
  {
   "cell_type": "code",
   "execution_count": 61,
   "metadata": {
    "collapsed": true
   },
   "outputs": [],
   "source": [
    "def preOrder(tree):\n",
    "    if tree: \n",
    "        print (tree.getRootVal())\n",
    "        preorder(tree.getLeftChild())\n",
    "        preorder(tree.getRightChild())"
   ]
  },
  {
   "cell_type": "code",
   "execution_count": 72,
   "metadata": {
    "collapsed": true
   },
   "outputs": [],
   "source": [
    "def inOrder(tree):\n",
    "    if tree: \n",
    "        inOrder(tree.getLeftChild())\n",
    "        print (tree.getRootVal())\n",
    "        inOrder(tree.getRightChild())"
   ]
  },
  {
   "cell_type": "code",
   "execution_count": 73,
   "metadata": {
    "collapsed": true
   },
   "outputs": [],
   "source": [
    "def postOrder(tree):\n",
    "    if tree: \n",
    "        postOrder(tree.getLeftChild())\n",
    "        postOrder(tree.getRightChild())\n",
    "        print (tree.getRootVal())"
   ]
  },
  {
   "cell_type": "code",
   "execution_count": 54,
   "metadata": {
    "collapsed": true
   },
   "outputs": [],
   "source": [
    "thetree = BinaryTree('a')"
   ]
  },
  {
   "cell_type": "code",
   "execution_count": 56,
   "metadata": {
    "collapsed": true
   },
   "outputs": [],
   "source": [
    "thetree.insertLeftChild('d')\n",
    "thetree.insertLeftChild('b')\n",
    "thetree.insertRightChild('e')\n",
    "thetree.insertRightChild('c')"
   ]
  },
  {
   "cell_type": "code",
   "execution_count": 67,
   "metadata": {},
   "outputs": [
    {
     "name": "stdout",
     "output_type": "stream",
     "text": [
      "a\n",
      "b\n",
      "d\n",
      "c\n",
      "e\n"
     ]
    }
   ],
   "source": [
    "preOrder(thetree)"
   ]
  },
  {
   "cell_type": "code",
   "execution_count": 74,
   "metadata": {},
   "outputs": [
    {
     "name": "stdout",
     "output_type": "stream",
     "text": [
      "d\n",
      "b\n",
      "a\n",
      "c\n",
      "e\n"
     ]
    }
   ],
   "source": [
    "inOrder(thetree)"
   ]
  },
  {
   "cell_type": "code",
   "execution_count": 75,
   "metadata": {},
   "outputs": [
    {
     "name": "stdout",
     "output_type": "stream",
     "text": [
      "d\n",
      "b\n",
      "e\n",
      "c\n",
      "a\n"
     ]
    }
   ],
   "source": [
    "postOrder(thetree)"
   ]
  },
  {
   "cell_type": "code",
   "execution_count": null,
   "metadata": {
    "collapsed": true
   },
   "outputs": [],
   "source": []
  }
 ],
 "metadata": {
  "kernelspec": {
   "display_name": "Python 3",
   "language": "python",
   "name": "python3"
  },
  "language_info": {
   "codemirror_mode": {
    "name": "ipython",
    "version": 3
   },
   "file_extension": ".py",
   "mimetype": "text/x-python",
   "name": "python",
   "nbconvert_exporter": "python",
   "pygments_lexer": "ipython3",
   "version": "3.6.3"
  }
 },
 "nbformat": 4,
 "nbformat_minor": 2
}
